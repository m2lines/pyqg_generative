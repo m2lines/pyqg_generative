{
 "cells": [
  {
   "cell_type": "code",
   "execution_count": 1,
   "metadata": {},
   "outputs": [],
   "source": [
    "import xarray as xr\n",
    "import matplotlib.pyplot as plt\n",
    "import numpy as np\n",
    "%load_ext autoreload\n",
    "%autoreload 3"
   ]
  },
  {
   "cell_type": "code",
   "execution_count": 2,
   "metadata": {},
   "outputs": [],
   "source": [
    "import argparse\n",
    "import os\n",
    "import xarray as xr\n",
    "\n",
    "from pyqg_generative.models.ann_model import ANNModel\n",
    "\n",
    "parser = argparse.ArgumentParser()\n",
    "parser.add_argument('--model_args', type=str, default=str({}))\n",
    "parser.add_argument('--fit_args', type=str, default=str({}))\n",
    "parser.add_argument('--operator', type=str, default='Operator2-dealias')\n",
    "\n",
    "def read_dataset(key=f'eddy/Operator2-dealias-48', idx=range(0,300)):\n",
    "    base = f'/scratch/pp2681/pyqg_generative/Reference-Default-scaled/{key}'\n",
    "    files = [f'{base}/{i}.nc' for i in idx]\n",
    "    return xr.open_mfdataset(files, combine='nested', concat_dim='run')"
   ]
  },
  {
   "cell_type": "code",
   "execution_count": 3,
   "metadata": {},
   "outputs": [
    {
     "name": "stdout",
     "output_type": "stream",
     "text": [
      "Namespace(model_args='{}', fit_args='{}', operator='Operator2-dealias')\n"
     ]
    }
   ],
   "source": [
    "args = parser.parse_args(args=[])\n",
    "print(args)"
   ]
  },
  {
   "cell_type": "code",
   "execution_count": 4,
   "metadata": {},
   "outputs": [],
   "source": [
    "eddy_48 = read_dataset(f'eddy/{args.operator}-48')\n",
    "jet_48 = read_dataset(f'jet/{args.operator}-48')\n",
    "eddy_96 = read_dataset(f'eddy/{args.operator}-96')\n",
    "jet_96 = read_dataset(f'jet/{args.operator}-96')\n",
    "\n",
    "ds_list = [eddy_48, jet_48, eddy_96, jet_96]\n",
    "\n",
    "train = lambda ds: ds.isel(run=slice(0,250))\n",
    "validate = lambda ds: ds.isel(run=slice(250,275))"
   ]
  },
  {
   "cell_type": "code",
   "execution_count": 10,
   "metadata": {},
   "outputs": [
    {
     "name": "stdout",
     "output_type": "stream",
     "text": [
      "reading ANNModel from model\n"
     ]
    }
   ],
   "source": [
    "model = ANNModel(**eval(args.model_args))"
   ]
  },
  {
   "cell_type": "code",
   "execution_count": null,
   "metadata": {},
   "outputs": [
    {
     "name": "stdout",
     "output_type": "stream",
     "text": [
      "Training starts on device cpu, number of samples 110080000\n",
      "[1/10] [32.00/287.98] Loss: [0.874, 0.851]\n",
      "[2/10] [32.46/257.83] Loss: [0.854, 0.843]\n",
      "[3/10] [29.00/218.06] Loss: [0.848, 0.839]\n",
      "[4/10] [26.32/179.66] Loss: [0.844, 0.835]\n",
      "[5/10] [26.69/146.46] Loss: [0.842, 0.833]\n",
      "[6/10] [26.61/115.38] Loss: [0.839, 0.832]\n",
      "[7/10] [27.20/85.83] Loss: [0.839, 0.831]\n",
      "[8/10] [30.74/57.75] Loss: [0.839, 0.831]\n"
     ]
    }
   ],
   "source": [
    "model.fit([train(ds) for ds in ds_list], [validate(ds) for ds in ds_list], num_epochs=10)"
   ]
  },
  {
   "cell_type": "code",
   "execution_count": null,
   "metadata": {},
   "outputs": [],
   "source": []
  }
 ],
 "metadata": {
  "kernelspec": {
   "display_name": "environment_13_Jul_2023",
   "language": "python",
   "name": "my_env"
  },
  "language_info": {
   "codemirror_mode": {
    "name": "ipython",
    "version": 3
   },
   "file_extension": ".py",
   "mimetype": "text/x-python",
   "name": "python",
   "nbconvert_exporter": "python",
   "pygments_lexer": "ipython3",
   "version": "3.11.4"
  }
 },
 "nbformat": 4,
 "nbformat_minor": 4
}
